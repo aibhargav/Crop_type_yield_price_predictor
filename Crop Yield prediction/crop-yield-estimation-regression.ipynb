{
 "cells": [
  {
   "cell_type": "code",
   "execution_count": 1,
   "id": "2e5e631d",
   "metadata": {
    "_cell_guid": "b1076dfc-b9ad-4769-8c92-a6c4dae69d19",
    "_uuid": "8f2839f25d086af736a60e9eeb907d3b93b6e0e5",
    "execution": {
     "iopub.execute_input": "2023-05-22T16:29:07.416048Z",
     "iopub.status.busy": "2023-05-22T16:29:07.415561Z",
     "iopub.status.idle": "2023-05-22T16:29:07.436741Z",
     "shell.execute_reply": "2023-05-22T16:29:07.435515Z"
    },
    "papermill": {
     "duration": 0.053469,
     "end_time": "2023-05-22T16:29:07.440164",
     "exception": false,
     "start_time": "2023-05-22T16:29:07.386695",
     "status": "completed"
    },
    "tags": []
   },
   "outputs": [],
   "source": [
    "\n",
    "\n",
    "import numpy as np \n",
    "import pandas as pd \n",
    "\n"
   ]
  },
  {
   "cell_type": "markdown",
   "id": "f6156910",
   "metadata": {
    "papermill": {
     "duration": 0.022986,
     "end_time": "2023-05-22T16:29:07.486772",
     "exception": false,
     "start_time": "2023-05-22T16:29:07.463786",
     "status": "completed"
    },
    "tags": []
   },
   "source": [
    "# Reading the dataframe"
   ]
  },
  {
   "cell_type": "code",
   "execution_count": 2,
   "id": "632942ec",
   "metadata": {
    "execution": {
     "iopub.execute_input": "2023-05-22T16:29:07.537872Z",
     "iopub.status.busy": "2023-05-22T16:29:07.536892Z",
     "iopub.status.idle": "2023-05-22T16:29:07.883120Z",
     "shell.execute_reply": "2023-05-22T16:29:07.882034Z"
    },
    "papermill": {
     "duration": 0.376266,
     "end_time": "2023-05-22T16:29:07.886195",
     "exception": false,
     "start_time": "2023-05-22T16:29:07.509929",
     "status": "completed"
    },
    "tags": []
   },
   "outputs": [],
   "source": [
    "df_yield = pd.read_csv(\"yield.csv\")\n",
    "df_temp= pd.read_csv(\"temp.csv\")\n",
    "df_rainfall = pd.read_csv(\"rainfall.csv\")\n",
    "df_pesticides = pd.read_csv(\"pesticides.csv\")\n",
    "df_yield_df = pd.read_csv(\"yield_df.csv\")"
   ]
  },
  {
   "cell_type": "markdown",
   "id": "85aa98d7",
   "metadata": {
    "papermill": {
     "duration": 0.023621,
     "end_time": "2023-05-22T16:29:07.933418",
     "exception": false,
     "start_time": "2023-05-22T16:29:07.909797",
     "status": "completed"
    },
    "tags": []
   },
   "source": [
    "# Checking the dataframes and looking into the common columns or columns of relevance"
   ]
  },
  {
   "cell_type": "code",
   "execution_count": 3,
   "id": "e78adbb5",
   "metadata": {
    "execution": {
     "iopub.execute_input": "2023-05-22T16:29:07.984014Z",
     "iopub.status.busy": "2023-05-22T16:29:07.983176Z",
     "iopub.status.idle": "2023-05-22T16:29:08.009391Z",
     "shell.execute_reply": "2023-05-22T16:29:08.008022Z"
    },
    "papermill": {
     "duration": 0.053645,
     "end_time": "2023-05-22T16:29:08.012133",
     "exception": false,
     "start_time": "2023-05-22T16:29:07.958488",
     "status": "completed"
    },
    "tags": []
   },
   "outputs": [
    {
     "name": "stdout",
     "output_type": "stream",
     "text": [
      "Index(['Domain Code', 'Domain', 'Area Code', 'Area', 'Element Code', 'Element',\n",
      "       'Item Code', 'Item', 'Year Code', 'Year', 'Unit', 'Value'],\n",
      "      dtype='object')\n",
      "212\n",
      "56\n"
     ]
    }
   ],
   "source": [
    "#### Checking for a column to implement the join \n",
    "\n",
    "print(df_yield.columns)\n",
    "print(df_yield['Area'].nunique())\n",
    "print(df_yield['Year'].nunique())"
   ]
  },
  {
   "cell_type": "code",
   "execution_count": 4,
   "id": "76c41dbb",
   "metadata": {
    "execution": {
     "iopub.execute_input": "2023-05-22T16:29:08.060555Z",
     "iopub.status.busy": "2023-05-22T16:29:08.060066Z",
     "iopub.status.idle": "2023-05-22T16:29:08.079045Z",
     "shell.execute_reply": "2023-05-22T16:29:08.077812Z"
    },
    "papermill": {
     "duration": 0.047715,
     "end_time": "2023-05-22T16:29:08.082877",
     "exception": false,
     "start_time": "2023-05-22T16:29:08.035162",
     "status": "completed"
    },
    "tags": []
   },
   "outputs": [
    {
     "name": "stdout",
     "output_type": "stream",
     "text": [
      "Index(['Unnamed: 0', 'Area', 'Item', 'Year', 'hg/ha_yield',\n",
      "       'average_rain_fall_mm_per_year', 'pesticides_tonnes', 'avg_temp'],\n",
      "      dtype='object')\n",
      "101\n",
      "23\n"
     ]
    }
   ],
   "source": [
    "\n",
    "print(df_yield_df.columns)\n",
    "print(df_yield_df['Area'].nunique())\n",
    "print(df_yield_df['Year'].nunique())\n",
    "df_yield_df.drop(['Unnamed: 0'], axis = 1 ,inplace = True)"
   ]
  },
  {
   "cell_type": "code",
   "execution_count": 5,
   "id": "54c65890",
   "metadata": {
    "execution": {
     "iopub.execute_input": "2023-05-22T16:29:08.131565Z",
     "iopub.status.busy": "2023-05-22T16:29:08.131050Z",
     "iopub.status.idle": "2023-05-22T16:29:08.139451Z",
     "shell.execute_reply": "2023-05-22T16:29:08.138157Z"
    },
    "papermill": {
     "duration": 0.035759,
     "end_time": "2023-05-22T16:29:08.141943",
     "exception": false,
     "start_time": "2023-05-22T16:29:08.106184",
     "status": "completed"
    },
    "tags": []
   },
   "outputs": [
    {
     "name": "stdout",
     "output_type": "stream",
     "text": [
      "Index(['Domain', 'Area', 'Element', 'Item', 'Year', 'Unit', 'Value'], dtype='object')\n",
      "168\n",
      "27\n"
     ]
    }
   ],
   "source": [
    "print(df_pesticides.columns)\n",
    "print(df_pesticides['Area'].nunique())\n",
    "print(df_pesticides['Year'].nunique())"
   ]
  },
  {
   "cell_type": "code",
   "execution_count": 6,
   "id": "05294d60",
   "metadata": {
    "execution": {
     "iopub.execute_input": "2023-05-22T16:29:08.191092Z",
     "iopub.status.busy": "2023-05-22T16:29:08.190177Z",
     "iopub.status.idle": "2023-05-22T16:29:08.202484Z",
     "shell.execute_reply": "2023-05-22T16:29:08.200933Z"
    },
    "papermill": {
     "duration": 0.040127,
     "end_time": "2023-05-22T16:29:08.205425",
     "exception": false,
     "start_time": "2023-05-22T16:29:08.165298",
     "status": "completed"
    },
    "tags": []
   },
   "outputs": [
    {
     "name": "stdout",
     "output_type": "stream",
     "text": [
      "Index([' Area', 'Year', 'average_rain_fall_mm_per_year'], dtype='object')\n",
      "217\n",
      "31\n"
     ]
    }
   ],
   "source": [
    "print(df_rainfall.columns)\n",
    "## Renaming the ' Area' column\n",
    "df_rainfall.rename(columns = {' Area':'Area'},inplace = True)\n",
    "print(df_rainfall['Area'].nunique())\n",
    "print(df_rainfall['Year'].nunique())"
   ]
  },
  {
   "cell_type": "code",
   "execution_count": 7,
   "id": "168db49b",
   "metadata": {
    "execution": {
     "iopub.execute_input": "2023-05-22T16:29:08.256778Z",
     "iopub.status.busy": "2023-05-22T16:29:08.256296Z",
     "iopub.status.idle": "2023-05-22T16:29:08.272812Z",
     "shell.execute_reply": "2023-05-22T16:29:08.271147Z"
    },
    "papermill": {
     "duration": 0.045648,
     "end_time": "2023-05-22T16:29:08.275464",
     "exception": false,
     "start_time": "2023-05-22T16:29:08.229816",
     "status": "completed"
    },
    "tags": []
   },
   "outputs": [
    {
     "name": "stdout",
     "output_type": "stream",
     "text": [
      "Index(['year', 'country', 'avg_temp'], dtype='object')\n",
      "137\n",
      "271\n",
      "Index(['Year', 'Area', 'avg_temp'], dtype='object')\n"
     ]
    }
   ],
   "source": [
    "print(df_temp.columns)\n",
    "df_temp.rename(columns = {'year':'Year','country':'Area'},inplace = True)\n",
    "print(df_temp['Area'].nunique())\n",
    "print(df_temp['Year'].nunique())\n",
    "print(df_temp.columns)"
   ]
  },
  {
   "cell_type": "markdown",
   "id": "af008126",
   "metadata": {
    "execution": {
     "iopub.execute_input": "2023-05-18T07:48:13.571161Z",
     "iopub.status.busy": "2023-05-18T07:48:13.570754Z",
     "iopub.status.idle": "2023-05-18T07:48:13.575333Z",
     "shell.execute_reply": "2023-05-18T07:48:13.574246Z",
     "shell.execute_reply.started": "2023-05-18T07:48:13.571127Z"
    },
    "papermill": {
     "duration": 0.023549,
     "end_time": "2023-05-22T16:29:08.322637",
     "exception": false,
     "start_time": "2023-05-22T16:29:08.299088",
     "status": "completed"
    },
    "tags": []
   },
   "source": [
    "#### The common columns in the above are the Year and and Country(Area) column , we will merge our datasets on these columns"
   ]
  },
  {
   "cell_type": "code",
   "execution_count": 8,
   "id": "a32c17c6",
   "metadata": {
    "execution": {
     "iopub.execute_input": "2023-05-22T16:29:08.374979Z",
     "iopub.status.busy": "2023-05-22T16:29:08.373640Z",
     "iopub.status.idle": "2023-05-22T16:29:08.422701Z",
     "shell.execute_reply": "2023-05-22T16:29:08.421149Z"
    },
    "papermill": {
     "duration": 0.079081,
     "end_time": "2023-05-22T16:29:08.426199",
     "exception": false,
     "start_time": "2023-05-22T16:29:08.347118",
     "status": "completed"
    },
    "tags": []
   },
   "outputs": [],
   "source": [
    "df_temprain = pd.merge(df_rainfall,df_temp,on = ['Year','Area'])\n",
    "df_trp = pd.merge(df_temprain,df_pesticides , on = ['Year','Area'])"
   ]
  },
  {
   "cell_type": "code",
   "execution_count": 9,
   "id": "42deb3ca",
   "metadata": {
    "execution": {
     "iopub.execute_input": "2023-05-22T16:29:08.476528Z",
     "iopub.status.busy": "2023-05-22T16:29:08.476050Z",
     "iopub.status.idle": "2023-05-22T16:29:08.482269Z",
     "shell.execute_reply": "2023-05-22T16:29:08.481073Z"
    },
    "papermill": {
     "duration": 0.034497,
     "end_time": "2023-05-22T16:29:08.484860",
     "exception": false,
     "start_time": "2023-05-22T16:29:08.450363",
     "status": "completed"
    },
    "tags": []
   },
   "outputs": [],
   "source": [
    "trpl =list(df_trp.columns)\n",
    "dfy = list(df_yield.columns)\n",
    "com1 = [i for i in trpl if i in dfy]"
   ]
  },
  {
   "cell_type": "code",
   "execution_count": 10,
   "id": "d93f938d",
   "metadata": {
    "execution": {
     "iopub.execute_input": "2023-05-22T16:29:08.535267Z",
     "iopub.status.busy": "2023-05-22T16:29:08.534423Z",
     "iopub.status.idle": "2023-05-22T16:29:08.542607Z",
     "shell.execute_reply": "2023-05-22T16:29:08.541168Z"
    },
    "papermill": {
     "duration": 0.036844,
     "end_time": "2023-05-22T16:29:08.545269",
     "exception": false,
     "start_time": "2023-05-22T16:29:08.508425",
     "status": "completed"
    },
    "tags": []
   },
   "outputs": [
    {
     "name": "stdout",
     "output_type": "stream",
     "text": [
      "Index(['Domain Code', 'Domain', 'Area Code', 'Area', 'Element Code', 'Element',\n",
      "       'Item Code', 'Item', 'Year Code', 'Year', 'Unit', 'Value'],\n",
      "      dtype='object')\n",
      "Index(['Area', 'Item', 'Year', 'hg/ha_yield', 'average_rain_fall_mm_per_year',\n",
      "       'pesticides_tonnes', 'avg_temp'],\n",
      "      dtype='object')\n"
     ]
    }
   ],
   "source": [
    "print(df_yield.columns)\n",
    "print(df_yield_df.columns)\n",
    "\n",
    "\n",
    "\n",
    "ly = [i for i in list(df_yield.columns) if i in (df_yield_df.columns)]"
   ]
  },
  {
   "cell_type": "code",
   "execution_count": 11,
   "id": "98efa5bd",
   "metadata": {
    "execution": {
     "iopub.execute_input": "2023-05-22T16:29:08.595599Z",
     "iopub.status.busy": "2023-05-22T16:29:08.594537Z",
     "iopub.status.idle": "2023-05-22T16:29:08.652432Z",
     "shell.execute_reply": "2023-05-22T16:29:08.650969Z"
    },
    "papermill": {
     "duration": 0.086863,
     "end_time": "2023-05-22T16:29:08.655861",
     "exception": false,
     "start_time": "2023-05-22T16:29:08.568998",
     "status": "completed"
    },
    "tags": []
   },
   "outputs": [],
   "source": [
    "yield_df = pd.merge(df_yield_df,df_yield, on = ['Year','Area','Item'])"
   ]
  },
  {
   "cell_type": "code",
   "execution_count": 12,
   "id": "e7f3a57b",
   "metadata": {
    "execution": {
     "iopub.execute_input": "2023-05-22T16:29:08.706872Z",
     "iopub.status.busy": "2023-05-22T16:29:08.706416Z",
     "iopub.status.idle": "2023-05-22T16:29:08.713782Z",
     "shell.execute_reply": "2023-05-22T16:29:08.712418Z"
    },
    "papermill": {
     "duration": 0.036959,
     "end_time": "2023-05-22T16:29:08.717220",
     "exception": false,
     "start_time": "2023-05-22T16:29:08.680261",
     "status": "completed"
    },
    "tags": []
   },
   "outputs": [
    {
     "name": "stdout",
     "output_type": "stream",
     "text": [
      "(28242, 16)\n",
      "Index(['Area', 'Item', 'Year', 'hg/ha_yield', 'average_rain_fall_mm_per_year',\n",
      "       'pesticides_tonnes', 'avg_temp', 'Domain Code', 'Domain', 'Area Code',\n",
      "       'Element Code', 'Element', 'Item Code', 'Year Code', 'Unit', 'Value'],\n",
      "      dtype='object')\n",
      "Index(['Area', 'Year', 'average_rain_fall_mm_per_year', 'avg_temp', 'Domain',\n",
      "       'Element', 'Item', 'Unit', 'Value'],\n",
      "      dtype='object')\n"
     ]
    }
   ],
   "source": [
    "print(yield_df.shape)\n",
    "\n",
    "print(yield_df.columns)\n",
    "print(df_trp.columns)"
   ]
  },
  {
   "cell_type": "code",
   "execution_count": 13,
   "id": "51cbeae2",
   "metadata": {
    "execution": {
     "iopub.execute_input": "2023-05-22T16:29:08.768925Z",
     "iopub.status.busy": "2023-05-22T16:29:08.767508Z",
     "iopub.status.idle": "2023-05-22T16:29:08.776760Z",
     "shell.execute_reply": "2023-05-22T16:29:08.775455Z"
    },
    "papermill": {
     "duration": 0.03778,
     "end_time": "2023-05-22T16:29:08.779349",
     "exception": false,
     "start_time": "2023-05-22T16:29:08.741569",
     "status": "completed"
    },
    "tags": []
   },
   "outputs": [
    {
     "name": "stdout",
     "output_type": "stream",
     "text": [
      "Years present in df1 but not in df2: set()\n"
     ]
    }
   ],
   "source": [
    "# Assuming your first dataframe is df1 and second dataframe is df2\n",
    "years_df1 = set(yield_df['Year'].unique())\n",
    "years_df2 = set(df_trp['Year'].unique())\n",
    "\n",
    "# Find the years in df2 that are not in df1\n",
    "years_only_in_df2 = years_df2 - years_df1\n",
    "\n",
    "# Print the result\n",
    "print(\"Years present in df1 but not in df2:\", years_only_in_df2)"
   ]
  },
  {
   "cell_type": "code",
   "execution_count": 14,
   "id": "7452c0ae",
   "metadata": {
    "execution": {
     "iopub.execute_input": "2023-05-22T16:29:08.832672Z",
     "iopub.status.busy": "2023-05-22T16:29:08.830902Z",
     "iopub.status.idle": "2023-05-22T16:29:08.840643Z",
     "shell.execute_reply": "2023-05-22T16:29:08.839362Z"
    },
    "papermill": {
     "duration": 0.039124,
     "end_time": "2023-05-22T16:29:08.843291",
     "exception": false,
     "start_time": "2023-05-22T16:29:08.804167",
     "status": "completed"
    },
    "tags": []
   },
   "outputs": [
    {
     "name": "stdout",
     "output_type": "stream",
     "text": [
      "Area present in df1 but not in df2: set()\n"
     ]
    }
   ],
   "source": [
    "# Assuming your first dataframe is df1 and second dataframe is df2\n",
    "area_df1 = set(yield_df['Year'].unique())\n",
    "area_df2 = set(df_trp['Year'].unique())\n",
    "\n",
    "# Find the years in df2 that are not in df1\n",
    "area_only_in_df1 = area_df2 - area_df1\n",
    "\n",
    "# Print the result\n",
    "print(\"Area present in df1 but not in df2:\", area_only_in_df1)"
   ]
  },
  {
   "cell_type": "markdown",
   "id": "58701f1e",
   "metadata": {
    "papermill": {
     "duration": 0.024317,
     "end_time": "2023-05-22T16:29:08.891556",
     "exception": false,
     "start_time": "2023-05-22T16:29:08.867239",
     "status": "completed"
    },
    "tags": []
   },
   "source": [
    "#### We see that the columns in the respective datasets are the same and the values of Year and Area overlap. Thus we have repetitive data , and hence ignoring the adf_trp dataset .Proceeding with the yield_df.\n",
    "\n"
   ]
  },
  {
   "cell_type": "markdown",
   "id": "550989b0",
   "metadata": {
    "execution": {
     "iopub.execute_input": "2023-05-20T07:19:17.177449Z",
     "iopub.status.busy": "2023-05-20T07:19:17.177057Z",
     "iopub.status.idle": "2023-05-20T07:19:17.183048Z",
     "shell.execute_reply": "2023-05-20T07:19:17.181684Z",
     "shell.execute_reply.started": "2023-05-20T07:19:17.177418Z"
    },
    "papermill": {
     "duration": 0.024253,
     "end_time": "2023-05-22T16:29:08.939949",
     "exception": false,
     "start_time": "2023-05-22T16:29:08.915696",
     "status": "completed"
    },
    "tags": []
   },
   "source": [
    "# Exploratory data analysis"
   ]
  },
  {
   "cell_type": "code",
   "execution_count": 15,
   "id": "05786d14",
   "metadata": {
    "execution": {
     "iopub.execute_input": "2023-05-22T16:29:08.993777Z",
     "iopub.status.busy": "2023-05-22T16:29:08.992576Z",
     "iopub.status.idle": "2023-05-22T16:29:09.031036Z",
     "shell.execute_reply": "2023-05-22T16:29:09.030094Z"
    },
    "papermill": {
     "duration": 0.068608,
     "end_time": "2023-05-22T16:29:09.034048",
     "exception": false,
     "start_time": "2023-05-22T16:29:08.965440",
     "status": "completed"
    },
    "tags": []
   },
   "outputs": [
    {
     "data": {
      "text/html": [
       "<div>\n",
       "<style scoped>\n",
       "    .dataframe tbody tr th:only-of-type {\n",
       "        vertical-align: middle;\n",
       "    }\n",
       "\n",
       "    .dataframe tbody tr th {\n",
       "        vertical-align: top;\n",
       "    }\n",
       "\n",
       "    .dataframe thead th {\n",
       "        text-align: right;\n",
       "    }\n",
       "</style>\n",
       "<table border=\"1\" class=\"dataframe\">\n",
       "  <thead>\n",
       "    <tr style=\"text-align: right;\">\n",
       "      <th></th>\n",
       "      <th>Area</th>\n",
       "      <th>Item</th>\n",
       "      <th>Year</th>\n",
       "      <th>hg/ha_yield</th>\n",
       "      <th>average_rain_fall_mm_per_year</th>\n",
       "      <th>pesticides_tonnes</th>\n",
       "      <th>avg_temp</th>\n",
       "      <th>Domain Code</th>\n",
       "      <th>Domain</th>\n",
       "      <th>Area Code</th>\n",
       "      <th>Element Code</th>\n",
       "      <th>Element</th>\n",
       "      <th>Item Code</th>\n",
       "      <th>Year Code</th>\n",
       "      <th>Unit</th>\n",
       "      <th>Value</th>\n",
       "    </tr>\n",
       "  </thead>\n",
       "  <tbody>\n",
       "    <tr>\n",
       "      <th>0</th>\n",
       "      <td>Albania</td>\n",
       "      <td>Maize</td>\n",
       "      <td>1990</td>\n",
       "      <td>36613</td>\n",
       "      <td>1485.0</td>\n",
       "      <td>121.0</td>\n",
       "      <td>16.37</td>\n",
       "      <td>QC</td>\n",
       "      <td>Crops</td>\n",
       "      <td>3</td>\n",
       "      <td>5419</td>\n",
       "      <td>Yield</td>\n",
       "      <td>56</td>\n",
       "      <td>1990</td>\n",
       "      <td>hg/ha</td>\n",
       "      <td>36613</td>\n",
       "    </tr>\n",
       "    <tr>\n",
       "      <th>1</th>\n",
       "      <td>Albania</td>\n",
       "      <td>Potatoes</td>\n",
       "      <td>1990</td>\n",
       "      <td>66667</td>\n",
       "      <td>1485.0</td>\n",
       "      <td>121.0</td>\n",
       "      <td>16.37</td>\n",
       "      <td>QC</td>\n",
       "      <td>Crops</td>\n",
       "      <td>3</td>\n",
       "      <td>5419</td>\n",
       "      <td>Yield</td>\n",
       "      <td>116</td>\n",
       "      <td>1990</td>\n",
       "      <td>hg/ha</td>\n",
       "      <td>66667</td>\n",
       "    </tr>\n",
       "    <tr>\n",
       "      <th>2</th>\n",
       "      <td>Albania</td>\n",
       "      <td>Rice, paddy</td>\n",
       "      <td>1990</td>\n",
       "      <td>23333</td>\n",
       "      <td>1485.0</td>\n",
       "      <td>121.0</td>\n",
       "      <td>16.37</td>\n",
       "      <td>QC</td>\n",
       "      <td>Crops</td>\n",
       "      <td>3</td>\n",
       "      <td>5419</td>\n",
       "      <td>Yield</td>\n",
       "      <td>27</td>\n",
       "      <td>1990</td>\n",
       "      <td>hg/ha</td>\n",
       "      <td>23333</td>\n",
       "    </tr>\n",
       "    <tr>\n",
       "      <th>3</th>\n",
       "      <td>Albania</td>\n",
       "      <td>Sorghum</td>\n",
       "      <td>1990</td>\n",
       "      <td>12500</td>\n",
       "      <td>1485.0</td>\n",
       "      <td>121.0</td>\n",
       "      <td>16.37</td>\n",
       "      <td>QC</td>\n",
       "      <td>Crops</td>\n",
       "      <td>3</td>\n",
       "      <td>5419</td>\n",
       "      <td>Yield</td>\n",
       "      <td>83</td>\n",
       "      <td>1990</td>\n",
       "      <td>hg/ha</td>\n",
       "      <td>12500</td>\n",
       "    </tr>\n",
       "    <tr>\n",
       "      <th>4</th>\n",
       "      <td>Albania</td>\n",
       "      <td>Soybeans</td>\n",
       "      <td>1990</td>\n",
       "      <td>7000</td>\n",
       "      <td>1485.0</td>\n",
       "      <td>121.0</td>\n",
       "      <td>16.37</td>\n",
       "      <td>QC</td>\n",
       "      <td>Crops</td>\n",
       "      <td>3</td>\n",
       "      <td>5419</td>\n",
       "      <td>Yield</td>\n",
       "      <td>236</td>\n",
       "      <td>1990</td>\n",
       "      <td>hg/ha</td>\n",
       "      <td>7000</td>\n",
       "    </tr>\n",
       "  </tbody>\n",
       "</table>\n",
       "</div>"
      ],
      "text/plain": [
       "      Area         Item  Year  hg/ha_yield  average_rain_fall_mm_per_year  \\\n",
       "0  Albania        Maize  1990        36613                         1485.0   \n",
       "1  Albania     Potatoes  1990        66667                         1485.0   \n",
       "2  Albania  Rice, paddy  1990        23333                         1485.0   \n",
       "3  Albania      Sorghum  1990        12500                         1485.0   \n",
       "4  Albania     Soybeans  1990         7000                         1485.0   \n",
       "\n",
       "   pesticides_tonnes  avg_temp Domain Code Domain  Area Code  Element Code  \\\n",
       "0              121.0     16.37          QC  Crops          3          5419   \n",
       "1              121.0     16.37          QC  Crops          3          5419   \n",
       "2              121.0     16.37          QC  Crops          3          5419   \n",
       "3              121.0     16.37          QC  Crops          3          5419   \n",
       "4              121.0     16.37          QC  Crops          3          5419   \n",
       "\n",
       "  Element  Item Code  Year Code   Unit  Value  \n",
       "0   Yield         56       1990  hg/ha  36613  \n",
       "1   Yield        116       1990  hg/ha  66667  \n",
       "2   Yield         27       1990  hg/ha  23333  \n",
       "3   Yield         83       1990  hg/ha  12500  \n",
       "4   Yield        236       1990  hg/ha   7000  "
      ]
     },
     "execution_count": 15,
     "metadata": {},
     "output_type": "execute_result"
    }
   ],
   "source": [
    "yield_df.head()"
   ]
  },
  {
   "cell_type": "code",
   "execution_count": 16,
   "id": "4c2e0cc3",
   "metadata": {
    "execution": {
     "iopub.execute_input": "2023-05-22T16:29:09.086665Z",
     "iopub.status.busy": "2023-05-22T16:29:09.086152Z",
     "iopub.status.idle": "2023-05-22T16:29:09.096732Z",
     "shell.execute_reply": "2023-05-22T16:29:09.095306Z"
    },
    "papermill": {
     "duration": 0.040815,
     "end_time": "2023-05-22T16:29:09.099724",
     "exception": false,
     "start_time": "2023-05-22T16:29:09.058909",
     "status": "completed"
    },
    "tags": []
   },
   "outputs": [
    {
     "name": "stdout",
     "output_type": "stream",
     "text": [
      "10\n",
      "10\n"
     ]
    }
   ],
   "source": [
    "print(yield_df['Item Code'].nunique())\n",
    "print(yield_df['Item'].nunique())\n",
    "## It has one unique value for each crop"
   ]
  },
  {
   "cell_type": "code",
   "execution_count": 17,
   "id": "47c446d7",
   "metadata": {
    "execution": {
     "iopub.execute_input": "2023-05-22T16:29:09.153164Z",
     "iopub.status.busy": "2023-05-22T16:29:09.152396Z",
     "iopub.status.idle": "2023-05-22T16:29:09.165006Z",
     "shell.execute_reply": "2023-05-22T16:29:09.163374Z"
    },
    "papermill": {
     "duration": 0.043405,
     "end_time": "2023-05-22T16:29:09.167759",
     "exception": false,
     "start_time": "2023-05-22T16:29:09.124354",
     "status": "completed"
    },
    "tags": []
   },
   "outputs": [
    {
     "name": "stdout",
     "output_type": "stream",
     "text": [
      "1\n",
      "1\n"
     ]
    }
   ],
   "source": [
    "print(yield_df['Domain'].nunique())\n",
    "print(yield_df['Domain Code'].nunique())"
   ]
  },
  {
   "cell_type": "code",
   "execution_count": 18,
   "id": "f6df2ef7",
   "metadata": {
    "execution": {
     "iopub.execute_input": "2023-05-22T16:29:09.221391Z",
     "iopub.status.busy": "2023-05-22T16:29:09.220623Z",
     "iopub.status.idle": "2023-05-22T16:29:09.231290Z",
     "shell.execute_reply": "2023-05-22T16:29:09.230044Z"
    },
    "papermill": {
     "duration": 0.041166,
     "end_time": "2023-05-22T16:29:09.233996",
     "exception": false,
     "start_time": "2023-05-22T16:29:09.192830",
     "status": "completed"
    },
    "tags": []
   },
   "outputs": [
    {
     "name": "stdout",
     "output_type": "stream",
     "text": [
      "101\n",
      "101\n"
     ]
    }
   ],
   "source": [
    "print(yield_df['Area'].nunique())\n",
    "print(yield_df['Area Code'].nunique())"
   ]
  },
  {
   "cell_type": "code",
   "execution_count": 19,
   "id": "a37b685d",
   "metadata": {
    "execution": {
     "iopub.execute_input": "2023-05-22T16:29:09.286198Z",
     "iopub.status.busy": "2023-05-22T16:29:09.285451Z",
     "iopub.status.idle": "2023-05-22T16:29:09.299828Z",
     "shell.execute_reply": "2023-05-22T16:29:09.298549Z"
    },
    "papermill": {
     "duration": 0.04391,
     "end_time": "2023-05-22T16:29:09.302834",
     "exception": false,
     "start_time": "2023-05-22T16:29:09.258924",
     "status": "completed"
    },
    "tags": []
   },
   "outputs": [
    {
     "name": "stdout",
     "output_type": "stream",
     "text": [
      "1\n",
      "1\n",
      "1\n"
     ]
    }
   ],
   "source": [
    "print(yield_df['Element Code'].nunique())\n",
    "print(yield_df['Element'].nunique())\n",
    "print(yield_df['Unit'].nunique())"
   ]
  },
  {
   "cell_type": "markdown",
   "id": "a8bd4e59",
   "metadata": {
    "papermill": {
     "duration": 0.024854,
     "end_time": "2023-05-22T16:29:09.353632",
     "exception": false,
     "start_time": "2023-05-22T16:29:09.328778",
     "status": "completed"
    },
    "tags": []
   },
   "source": [
    "#### From the above it is evident that the Year Code and the Domain code are duplicate and irrelevent columns respectively. The Area code column is not useful for us for drawing any tangible conclusion. Domain also has only one value and hence dropping it. Dropping the columns. Area code is also representative of the Area code. hg/ha_yield And Value and Unit are all connected and hence dropping the last 2 columns ."
   ]
  },
  {
   "cell_type": "code",
   "execution_count": 20,
   "id": "df62f6ee",
   "metadata": {
    "execution": {
     "iopub.execute_input": "2023-05-22T16:29:09.406221Z",
     "iopub.status.busy": "2023-05-22T16:29:09.405731Z",
     "iopub.status.idle": "2023-05-22T16:29:09.417117Z",
     "shell.execute_reply": "2023-05-22T16:29:09.415374Z"
    },
    "papermill": {
     "duration": 0.041748,
     "end_time": "2023-05-22T16:29:09.420464",
     "exception": false,
     "start_time": "2023-05-22T16:29:09.378716",
     "status": "completed"
    },
    "tags": []
   },
   "outputs": [],
   "source": [
    "## Making a copy of the dataset , because it may be required for later use\n",
    "\n",
    "Yield_final_data = yield_df.copy()"
   ]
  },
  {
   "cell_type": "code",
   "execution_count": 21,
   "id": "5765fefe",
   "metadata": {
    "execution": {
     "iopub.execute_input": "2023-05-22T16:29:09.472791Z",
     "iopub.status.busy": "2023-05-22T16:29:09.472202Z",
     "iopub.status.idle": "2023-05-22T16:29:09.483152Z",
     "shell.execute_reply": "2023-05-22T16:29:09.481495Z"
    },
    "papermill": {
     "duration": 0.040823,
     "end_time": "2023-05-22T16:29:09.486352",
     "exception": false,
     "start_time": "2023-05-22T16:29:09.445529",
     "status": "completed"
    },
    "tags": []
   },
   "outputs": [],
   "source": [
    "Yield_final_data.drop(['Area Code','Year Code','Domain','Domain Code','Area Code','Item Code','Element','Element Code','Unit','Value'],axis = 1 , inplace = True)"
   ]
  },
  {
   "cell_type": "code",
   "execution_count": 22,
   "id": "2a07d3eb",
   "metadata": {
    "execution": {
     "iopub.execute_input": "2023-05-22T16:29:09.539831Z",
     "iopub.status.busy": "2023-05-22T16:29:09.539369Z",
     "iopub.status.idle": "2023-05-22T16:29:09.557173Z",
     "shell.execute_reply": "2023-05-22T16:29:09.555916Z"
    },
    "papermill": {
     "duration": 0.047852,
     "end_time": "2023-05-22T16:29:09.560042",
     "exception": false,
     "start_time": "2023-05-22T16:29:09.512190",
     "status": "completed"
    },
    "tags": []
   },
   "outputs": [
    {
     "data": {
      "text/html": [
       "<div>\n",
       "<style scoped>\n",
       "    .dataframe tbody tr th:only-of-type {\n",
       "        vertical-align: middle;\n",
       "    }\n",
       "\n",
       "    .dataframe tbody tr th {\n",
       "        vertical-align: top;\n",
       "    }\n",
       "\n",
       "    .dataframe thead th {\n",
       "        text-align: right;\n",
       "    }\n",
       "</style>\n",
       "<table border=\"1\" class=\"dataframe\">\n",
       "  <thead>\n",
       "    <tr style=\"text-align: right;\">\n",
       "      <th></th>\n",
       "      <th>Area</th>\n",
       "      <th>Item</th>\n",
       "      <th>Year</th>\n",
       "      <th>hg/ha_yield</th>\n",
       "      <th>average_rain_fall_mm_per_year</th>\n",
       "      <th>pesticides_tonnes</th>\n",
       "      <th>avg_temp</th>\n",
       "    </tr>\n",
       "  </thead>\n",
       "  <tbody>\n",
       "    <tr>\n",
       "      <th>0</th>\n",
       "      <td>Albania</td>\n",
       "      <td>Maize</td>\n",
       "      <td>1990</td>\n",
       "      <td>36613</td>\n",
       "      <td>1485.0</td>\n",
       "      <td>121.0</td>\n",
       "      <td>16.37</td>\n",
       "    </tr>\n",
       "    <tr>\n",
       "      <th>1</th>\n",
       "      <td>Albania</td>\n",
       "      <td>Potatoes</td>\n",
       "      <td>1990</td>\n",
       "      <td>66667</td>\n",
       "      <td>1485.0</td>\n",
       "      <td>121.0</td>\n",
       "      <td>16.37</td>\n",
       "    </tr>\n",
       "    <tr>\n",
       "      <th>2</th>\n",
       "      <td>Albania</td>\n",
       "      <td>Rice, paddy</td>\n",
       "      <td>1990</td>\n",
       "      <td>23333</td>\n",
       "      <td>1485.0</td>\n",
       "      <td>121.0</td>\n",
       "      <td>16.37</td>\n",
       "    </tr>\n",
       "    <tr>\n",
       "      <th>3</th>\n",
       "      <td>Albania</td>\n",
       "      <td>Sorghum</td>\n",
       "      <td>1990</td>\n",
       "      <td>12500</td>\n",
       "      <td>1485.0</td>\n",
       "      <td>121.0</td>\n",
       "      <td>16.37</td>\n",
       "    </tr>\n",
       "    <tr>\n",
       "      <th>4</th>\n",
       "      <td>Albania</td>\n",
       "      <td>Soybeans</td>\n",
       "      <td>1990</td>\n",
       "      <td>7000</td>\n",
       "      <td>1485.0</td>\n",
       "      <td>121.0</td>\n",
       "      <td>16.37</td>\n",
       "    </tr>\n",
       "  </tbody>\n",
       "</table>\n",
       "</div>"
      ],
      "text/plain": [
       "      Area         Item  Year  hg/ha_yield  average_rain_fall_mm_per_year  \\\n",
       "0  Albania        Maize  1990        36613                         1485.0   \n",
       "1  Albania     Potatoes  1990        66667                         1485.0   \n",
       "2  Albania  Rice, paddy  1990        23333                         1485.0   \n",
       "3  Albania      Sorghum  1990        12500                         1485.0   \n",
       "4  Albania     Soybeans  1990         7000                         1485.0   \n",
       "\n",
       "   pesticides_tonnes  avg_temp  \n",
       "0              121.0     16.37  \n",
       "1              121.0     16.37  \n",
       "2              121.0     16.37  \n",
       "3              121.0     16.37  \n",
       "4              121.0     16.37  "
      ]
     },
     "execution_count": 22,
     "metadata": {},
     "output_type": "execute_result"
    }
   ],
   "source": [
    "Yield_final_data.head()"
   ]
  },
  {
   "cell_type": "code",
   "execution_count": 23,
   "id": "9699a020",
   "metadata": {
    "execution": {
     "iopub.execute_input": "2023-05-22T16:29:09.615352Z",
     "iopub.status.busy": "2023-05-22T16:29:09.614531Z",
     "iopub.status.idle": "2023-05-22T16:29:09.638423Z",
     "shell.execute_reply": "2023-05-22T16:29:09.637533Z"
    },
    "papermill": {
     "duration": 0.054666,
     "end_time": "2023-05-22T16:29:09.640951",
     "exception": false,
     "start_time": "2023-05-22T16:29:09.586285",
     "status": "completed"
    },
    "tags": []
   },
   "outputs": [
    {
     "data": {
      "text/html": [
       "<div>\n",
       "<style scoped>\n",
       "    .dataframe tbody tr th:only-of-type {\n",
       "        vertical-align: middle;\n",
       "    }\n",
       "\n",
       "    .dataframe tbody tr th {\n",
       "        vertical-align: top;\n",
       "    }\n",
       "\n",
       "    .dataframe thead th {\n",
       "        text-align: right;\n",
       "    }\n",
       "</style>\n",
       "<table border=\"1\" class=\"dataframe\">\n",
       "  <thead>\n",
       "    <tr style=\"text-align: right;\">\n",
       "      <th></th>\n",
       "      <th>Area</th>\n",
       "      <th>Item</th>\n",
       "      <th>Year</th>\n",
       "      <th>hg/ha_yield</th>\n",
       "      <th>average_rain_fall_mm_per_year</th>\n",
       "      <th>pesticides_tonnes</th>\n",
       "      <th>avg_temp</th>\n",
       "    </tr>\n",
       "  </thead>\n",
       "  <tbody>\n",
       "    <tr>\n",
       "      <th>10502</th>\n",
       "      <td>India</td>\n",
       "      <td>Cassava</td>\n",
       "      <td>1990</td>\n",
       "      <td>205381</td>\n",
       "      <td>1083.0</td>\n",
       "      <td>75000.0</td>\n",
       "      <td>25.58</td>\n",
       "    </tr>\n",
       "    <tr>\n",
       "      <th>10503</th>\n",
       "      <td>India</td>\n",
       "      <td>Cassava</td>\n",
       "      <td>1990</td>\n",
       "      <td>205381</td>\n",
       "      <td>1083.0</td>\n",
       "      <td>75000.0</td>\n",
       "      <td>26.88</td>\n",
       "    </tr>\n",
       "    <tr>\n",
       "      <th>10504</th>\n",
       "      <td>India</td>\n",
       "      <td>Cassava</td>\n",
       "      <td>1990</td>\n",
       "      <td>205381</td>\n",
       "      <td>1083.0</td>\n",
       "      <td>75000.0</td>\n",
       "      <td>25.79</td>\n",
       "    </tr>\n",
       "    <tr>\n",
       "      <th>10505</th>\n",
       "      <td>India</td>\n",
       "      <td>Cassava</td>\n",
       "      <td>1990</td>\n",
       "      <td>205381</td>\n",
       "      <td>1083.0</td>\n",
       "      <td>75000.0</td>\n",
       "      <td>24.10</td>\n",
       "    </tr>\n",
       "    <tr>\n",
       "      <th>10506</th>\n",
       "      <td>India</td>\n",
       "      <td>Cassava</td>\n",
       "      <td>1990</td>\n",
       "      <td>205381</td>\n",
       "      <td>1083.0</td>\n",
       "      <td>75000.0</td>\n",
       "      <td>25.25</td>\n",
       "    </tr>\n",
       "  </tbody>\n",
       "</table>\n",
       "</div>"
      ],
      "text/plain": [
       "        Area     Item  Year  hg/ha_yield  average_rain_fall_mm_per_year  \\\n",
       "10502  India  Cassava  1990       205381                         1083.0   \n",
       "10503  India  Cassava  1990       205381                         1083.0   \n",
       "10504  India  Cassava  1990       205381                         1083.0   \n",
       "10505  India  Cassava  1990       205381                         1083.0   \n",
       "10506  India  Cassava  1990       205381                         1083.0   \n",
       "\n",
       "       pesticides_tonnes  avg_temp  \n",
       "10502            75000.0     25.58  \n",
       "10503            75000.0     26.88  \n",
       "10504            75000.0     25.79  \n",
       "10505            75000.0     24.10  \n",
       "10506            75000.0     25.25  "
      ]
     },
     "execution_count": 23,
     "metadata": {},
     "output_type": "execute_result"
    }
   ],
   "source": [
    "#### Filtering the dataset based on Area being India\n",
    "\n",
    "Yield_final_data[Yield_final_data['Area'] == 'India'].head()\n",
    "\n"
   ]
  },
  {
   "cell_type": "code",
   "execution_count": 24,
   "id": "421c2f2d",
   "metadata": {
    "execution": {
     "iopub.execute_input": "2023-05-22T16:29:29.677616Z",
     "iopub.status.busy": "2023-05-22T16:29:29.677121Z",
     "iopub.status.idle": "2023-05-22T16:29:29.684883Z",
     "shell.execute_reply": "2023-05-22T16:29:29.683639Z"
    },
    "papermill": {
     "duration": 0.055588,
     "end_time": "2023-05-22T16:29:29.687492",
     "exception": false,
     "start_time": "2023-05-22T16:29:29.631904",
     "status": "completed"
    },
    "tags": []
   },
   "outputs": [
    {
     "data": {
      "text/plain": [
       "(28242, 7)"
      ]
     },
     "execution_count": 24,
     "metadata": {},
     "output_type": "execute_result"
    }
   ],
   "source": [
    "Yield_final_data.shape"
   ]
  },
  {
   "cell_type": "code",
   "execution_count": 25,
   "id": "b1e941d7",
   "metadata": {},
   "outputs": [
    {
     "data": {
      "text/html": [
       "<div>\n",
       "<style scoped>\n",
       "    .dataframe tbody tr th:only-of-type {\n",
       "        vertical-align: middle;\n",
       "    }\n",
       "\n",
       "    .dataframe tbody tr th {\n",
       "        vertical-align: top;\n",
       "    }\n",
       "\n",
       "    .dataframe thead th {\n",
       "        text-align: right;\n",
       "    }\n",
       "</style>\n",
       "<table border=\"1\" class=\"dataframe\">\n",
       "  <thead>\n",
       "    <tr style=\"text-align: right;\">\n",
       "      <th></th>\n",
       "      <th>Year</th>\n",
       "      <th>hg/ha_yield</th>\n",
       "      <th>average_rain_fall_mm_per_year</th>\n",
       "      <th>pesticides_tonnes</th>\n",
       "      <th>avg_temp</th>\n",
       "    </tr>\n",
       "  </thead>\n",
       "  <tbody>\n",
       "    <tr>\n",
       "      <th>count</th>\n",
       "      <td>28242.000000</td>\n",
       "      <td>28242.000000</td>\n",
       "      <td>28242.00000</td>\n",
       "      <td>28242.000000</td>\n",
       "      <td>28242.000000</td>\n",
       "    </tr>\n",
       "    <tr>\n",
       "      <th>mean</th>\n",
       "      <td>2001.544296</td>\n",
       "      <td>77053.332094</td>\n",
       "      <td>1149.05598</td>\n",
       "      <td>37076.909344</td>\n",
       "      <td>20.542627</td>\n",
       "    </tr>\n",
       "    <tr>\n",
       "      <th>std</th>\n",
       "      <td>7.051905</td>\n",
       "      <td>84956.612897</td>\n",
       "      <td>709.81215</td>\n",
       "      <td>59958.784665</td>\n",
       "      <td>6.312051</td>\n",
       "    </tr>\n",
       "    <tr>\n",
       "      <th>min</th>\n",
       "      <td>1990.000000</td>\n",
       "      <td>50.000000</td>\n",
       "      <td>51.00000</td>\n",
       "      <td>0.040000</td>\n",
       "      <td>1.300000</td>\n",
       "    </tr>\n",
       "    <tr>\n",
       "      <th>25%</th>\n",
       "      <td>1995.000000</td>\n",
       "      <td>19919.250000</td>\n",
       "      <td>593.00000</td>\n",
       "      <td>1702.000000</td>\n",
       "      <td>16.702500</td>\n",
       "    </tr>\n",
       "    <tr>\n",
       "      <th>50%</th>\n",
       "      <td>2001.000000</td>\n",
       "      <td>38295.000000</td>\n",
       "      <td>1083.00000</td>\n",
       "      <td>17529.440000</td>\n",
       "      <td>21.510000</td>\n",
       "    </tr>\n",
       "    <tr>\n",
       "      <th>75%</th>\n",
       "      <td>2008.000000</td>\n",
       "      <td>104676.750000</td>\n",
       "      <td>1668.00000</td>\n",
       "      <td>48687.880000</td>\n",
       "      <td>26.000000</td>\n",
       "    </tr>\n",
       "    <tr>\n",
       "      <th>max</th>\n",
       "      <td>2013.000000</td>\n",
       "      <td>501412.000000</td>\n",
       "      <td>3240.00000</td>\n",
       "      <td>367778.000000</td>\n",
       "      <td>30.650000</td>\n",
       "    </tr>\n",
       "  </tbody>\n",
       "</table>\n",
       "</div>"
      ],
      "text/plain": [
       "               Year    hg/ha_yield  average_rain_fall_mm_per_year  \\\n",
       "count  28242.000000   28242.000000                    28242.00000   \n",
       "mean    2001.544296   77053.332094                     1149.05598   \n",
       "std        7.051905   84956.612897                      709.81215   \n",
       "min     1990.000000      50.000000                       51.00000   \n",
       "25%     1995.000000   19919.250000                      593.00000   \n",
       "50%     2001.000000   38295.000000                     1083.00000   \n",
       "75%     2008.000000  104676.750000                     1668.00000   \n",
       "max     2013.000000  501412.000000                     3240.00000   \n",
       "\n",
       "       pesticides_tonnes      avg_temp  \n",
       "count       28242.000000  28242.000000  \n",
       "mean        37076.909344     20.542627  \n",
       "std         59958.784665      6.312051  \n",
       "min             0.040000      1.300000  \n",
       "25%          1702.000000     16.702500  \n",
       "50%         17529.440000     21.510000  \n",
       "75%         48687.880000     26.000000  \n",
       "max        367778.000000     30.650000  "
      ]
     },
     "execution_count": 25,
     "metadata": {},
     "output_type": "execute_result"
    }
   ],
   "source": [
    "Yield_final_data.describe()"
   ]
  },
  {
   "cell_type": "code",
   "execution_count": 28,
   "id": "e81142e7",
   "metadata": {},
   "outputs": [
    {
     "name": "stdout",
     "output_type": "stream",
     "text": [
      "<class 'pandas.core.frame.DataFrame'>\n",
      "Int64Index: 28242 entries, 0 to 28241\n",
      "Data columns (total 7 columns):\n",
      " #   Column                         Non-Null Count  Dtype  \n",
      "---  ------                         --------------  -----  \n",
      " 0   Area                           28242 non-null  object \n",
      " 1   Item                           28242 non-null  object \n",
      " 2   Year                           28242 non-null  int64  \n",
      " 3   hg/ha_yield                    28242 non-null  int64  \n",
      " 4   average_rain_fall_mm_per_year  28242 non-null  float64\n",
      " 5   pesticides_tonnes              28242 non-null  float64\n",
      " 6   avg_temp                       28242 non-null  float64\n",
      "dtypes: float64(3), int64(2), object(2)\n",
      "memory usage: 1.7+ MB\n"
     ]
    }
   ],
   "source": [
    "Yield_final_data.info()"
   ]
  },
  {
   "cell_type": "code",
   "execution_count": 29,
   "id": "b3b27fc3",
   "metadata": {},
   "outputs": [
    {
     "name": "stdout",
     "output_type": "stream",
     "text": [
      "Yield_final_data does not contain zeros.\n"
     ]
    }
   ],
   "source": [
    "has_zeros = (Yield_final_data == 0).any().any()\n",
    "\n",
    "if has_zeros:\n",
    "    print(\"Yield_final_data contains zeros.\")\n",
    "else:\n",
    "    print(\"Yield_final_data does not contain zeros.\")"
   ]
  },
  {
   "cell_type": "code",
   "execution_count": 30,
   "id": "5256db84",
   "metadata": {},
   "outputs": [],
   "source": [
    "import pandas as pd\n",
    "from sklearn.model_selection import train_test_split\n",
    "from sklearn.preprocessing import OneHotEncoder, MinMaxScaler\n",
    "from sklearn.compose import ColumnTransformer\n",
    "from sklearn.pipeline import Pipeline\n",
    "from sklearn.ensemble import RandomForestRegressor"
   ]
  },
  {
   "cell_type": "code",
   "execution_count": 32,
   "id": "0e0c6c9d",
   "metadata": {},
   "outputs": [],
   "source": [
    "# Assuming df is your DataFrame containing the data\n",
    "# Extract features and target variable\n",
    "X = Yield_final_data.drop(columns=['hg/ha_yield'])  # Features\n",
    "y = Yield_final_data['hg/ha_yield']  # Target variable"
   ]
  },
  {
   "cell_type": "code",
   "execution_count": 33,
   "id": "5e1f76e4",
   "metadata": {},
   "outputs": [],
   "source": [
    "# Perform train-test split\n",
    "X_train, X_test, y_train, y_test = train_test_split(X, y, test_size=0.2, random_state=42)"
   ]
  },
  {
   "cell_type": "code",
   "execution_count": 34,
   "id": "f5eaa40f",
   "metadata": {},
   "outputs": [],
   "source": [
    "# Define preprocessing steps for categorical and numerical features\n",
    "categorical_features = ['Area', 'Item']\n",
    "categorical_transformer = OneHotEncoder(handle_unknown='ignore')"
   ]
  },
  {
   "cell_type": "code",
   "execution_count": 35,
   "id": "3f202552",
   "metadata": {},
   "outputs": [],
   "source": [
    "numeric_features = ['Year', 'average_rain_fall_mm_per_year', 'pesticides_tonnes', 'avg_temp']\n",
    "numeric_transformer = MinMaxScaler()"
   ]
  },
  {
   "cell_type": "code",
   "execution_count": 36,
   "id": "f3d85a04",
   "metadata": {},
   "outputs": [],
   "source": [
    "# Combine preprocessing steps\n",
    "preprocessor = ColumnTransformer(\n",
    "    transformers=[\n",
    "        ('cat', categorical_transformer, categorical_features),\n",
    "        ('num', numeric_transformer, numeric_features)\n",
    "    ])"
   ]
  },
  {
   "cell_type": "code",
   "execution_count": 55,
   "id": "929c2630",
   "metadata": {
    "execution": {
     "iopub.execute_input": "2023-05-22T16:29:29.780086Z",
     "iopub.status.busy": "2023-05-22T16:29:29.779582Z",
     "iopub.status.idle": "2023-05-22T16:29:29.798382Z",
     "shell.execute_reply": "2023-05-22T16:29:29.797017Z"
    },
    "papermill": {
     "duration": 0.069763,
     "end_time": "2023-05-22T16:29:29.801497",
     "exception": false,
     "start_time": "2023-05-22T16:29:29.731734",
     "status": "completed"
    },
    "tags": []
   },
   "outputs": [
    {
     "name": "stdout",
     "output_type": "stream",
     "text": [
      "(22424, 111)\n",
      "(22424,)\n",
      "(4575, 111)\n",
      "(4575,)\n"
     ]
    }
   ],
   "source": [
    "df_train = df_train.drop('Year',axis = 1)\n",
    "df_test  = df_test.drop('Year',axis = 1)\n",
    "\n",
    "X_train = df_train.drop('hg/ha_yield',axis = 1 )\n",
    "y_train = df_train['hg/ha_yield']\n",
    "X_test  = df_test.drop('hg/ha_yield', axis = 1)\n",
    "y_test  = df_test['hg/ha_yield']\n",
    "\n",
    "print(X_train.shape)\n",
    "print(y_train.shape)\n",
    "print(X_test.shape)\n",
    "print(y_test.shape)"
   ]
  },
  {
   "cell_type": "code",
   "execution_count": 37,
   "id": "e441d061",
   "metadata": {},
   "outputs": [],
   "source": [
    "# Create pipeline\n",
    "pipeline = Pipeline(steps=[\n",
    "    ('preprocessor', preprocessor),\n",
    "    ('regressor', RandomForestRegressor(random_state=42))\n",
    "])"
   ]
  },
  {
   "cell_type": "code",
   "execution_count": 38,
   "id": "713fe126",
   "metadata": {},
   "outputs": [
    {
     "data": {
      "text/html": [
       "<style>#sk-container-id-1 {color: black;background-color: white;}#sk-container-id-1 pre{padding: 0;}#sk-container-id-1 div.sk-toggleable {background-color: white;}#sk-container-id-1 label.sk-toggleable__label {cursor: pointer;display: block;width: 100%;margin-bottom: 0;padding: 0.3em;box-sizing: border-box;text-align: center;}#sk-container-id-1 label.sk-toggleable__label-arrow:before {content: \"▸\";float: left;margin-right: 0.25em;color: #696969;}#sk-container-id-1 label.sk-toggleable__label-arrow:hover:before {color: black;}#sk-container-id-1 div.sk-estimator:hover label.sk-toggleable__label-arrow:before {color: black;}#sk-container-id-1 div.sk-toggleable__content {max-height: 0;max-width: 0;overflow: hidden;text-align: left;background-color: #f0f8ff;}#sk-container-id-1 div.sk-toggleable__content pre {margin: 0.2em;color: black;border-radius: 0.25em;background-color: #f0f8ff;}#sk-container-id-1 input.sk-toggleable__control:checked~div.sk-toggleable__content {max-height: 200px;max-width: 100%;overflow: auto;}#sk-container-id-1 input.sk-toggleable__control:checked~label.sk-toggleable__label-arrow:before {content: \"▾\";}#sk-container-id-1 div.sk-estimator input.sk-toggleable__control:checked~label.sk-toggleable__label {background-color: #d4ebff;}#sk-container-id-1 div.sk-label input.sk-toggleable__control:checked~label.sk-toggleable__label {background-color: #d4ebff;}#sk-container-id-1 input.sk-hidden--visually {border: 0;clip: rect(1px 1px 1px 1px);clip: rect(1px, 1px, 1px, 1px);height: 1px;margin: -1px;overflow: hidden;padding: 0;position: absolute;width: 1px;}#sk-container-id-1 div.sk-estimator {font-family: monospace;background-color: #f0f8ff;border: 1px dotted black;border-radius: 0.25em;box-sizing: border-box;margin-bottom: 0.5em;}#sk-container-id-1 div.sk-estimator:hover {background-color: #d4ebff;}#sk-container-id-1 div.sk-parallel-item::after {content: \"\";width: 100%;border-bottom: 1px solid gray;flex-grow: 1;}#sk-container-id-1 div.sk-label:hover label.sk-toggleable__label {background-color: #d4ebff;}#sk-container-id-1 div.sk-serial::before {content: \"\";position: absolute;border-left: 1px solid gray;box-sizing: border-box;top: 0;bottom: 0;left: 50%;z-index: 0;}#sk-container-id-1 div.sk-serial {display: flex;flex-direction: column;align-items: center;background-color: white;padding-right: 0.2em;padding-left: 0.2em;position: relative;}#sk-container-id-1 div.sk-item {position: relative;z-index: 1;}#sk-container-id-1 div.sk-parallel {display: flex;align-items: stretch;justify-content: center;background-color: white;position: relative;}#sk-container-id-1 div.sk-item::before, #sk-container-id-1 div.sk-parallel-item::before {content: \"\";position: absolute;border-left: 1px solid gray;box-sizing: border-box;top: 0;bottom: 0;left: 50%;z-index: -1;}#sk-container-id-1 div.sk-parallel-item {display: flex;flex-direction: column;z-index: 1;position: relative;background-color: white;}#sk-container-id-1 div.sk-parallel-item:first-child::after {align-self: flex-end;width: 50%;}#sk-container-id-1 div.sk-parallel-item:last-child::after {align-self: flex-start;width: 50%;}#sk-container-id-1 div.sk-parallel-item:only-child::after {width: 0;}#sk-container-id-1 div.sk-dashed-wrapped {border: 1px dashed gray;margin: 0 0.4em 0.5em 0.4em;box-sizing: border-box;padding-bottom: 0.4em;background-color: white;}#sk-container-id-1 div.sk-label label {font-family: monospace;font-weight: bold;display: inline-block;line-height: 1.2em;}#sk-container-id-1 div.sk-label-container {text-align: center;}#sk-container-id-1 div.sk-container {/* jupyter's `normalize.less` sets `[hidden] { display: none; }` but bootstrap.min.css set `[hidden] { display: none !important; }` so we also need the `!important` here to be able to override the default hidden behavior on the sphinx rendered scikit-learn.org. See: https://github.com/scikit-learn/scikit-learn/issues/21755 */display: inline-block !important;position: relative;}#sk-container-id-1 div.sk-text-repr-fallback {display: none;}</style><div id=\"sk-container-id-1\" class=\"sk-top-container\"><div class=\"sk-text-repr-fallback\"><pre>Pipeline(steps=[(&#x27;preprocessor&#x27;,\n",
       "                 ColumnTransformer(transformers=[(&#x27;cat&#x27;,\n",
       "                                                  OneHotEncoder(handle_unknown=&#x27;ignore&#x27;),\n",
       "                                                  [&#x27;Area&#x27;, &#x27;Item&#x27;]),\n",
       "                                                 (&#x27;num&#x27;, MinMaxScaler(),\n",
       "                                                  [&#x27;Year&#x27;,\n",
       "                                                   &#x27;average_rain_fall_mm_per_year&#x27;,\n",
       "                                                   &#x27;pesticides_tonnes&#x27;,\n",
       "                                                   &#x27;avg_temp&#x27;])])),\n",
       "                (&#x27;regressor&#x27;, RandomForestRegressor(random_state=42))])</pre><b>In a Jupyter environment, please rerun this cell to show the HTML representation or trust the notebook. <br />On GitHub, the HTML representation is unable to render, please try loading this page with nbviewer.org.</b></div><div class=\"sk-container\" hidden><div class=\"sk-item sk-dashed-wrapped\"><div class=\"sk-label-container\"><div class=\"sk-label sk-toggleable\"><input class=\"sk-toggleable__control sk-hidden--visually\" id=\"sk-estimator-id-1\" type=\"checkbox\" ><label for=\"sk-estimator-id-1\" class=\"sk-toggleable__label sk-toggleable__label-arrow\">Pipeline</label><div class=\"sk-toggleable__content\"><pre>Pipeline(steps=[(&#x27;preprocessor&#x27;,\n",
       "                 ColumnTransformer(transformers=[(&#x27;cat&#x27;,\n",
       "                                                  OneHotEncoder(handle_unknown=&#x27;ignore&#x27;),\n",
       "                                                  [&#x27;Area&#x27;, &#x27;Item&#x27;]),\n",
       "                                                 (&#x27;num&#x27;, MinMaxScaler(),\n",
       "                                                  [&#x27;Year&#x27;,\n",
       "                                                   &#x27;average_rain_fall_mm_per_year&#x27;,\n",
       "                                                   &#x27;pesticides_tonnes&#x27;,\n",
       "                                                   &#x27;avg_temp&#x27;])])),\n",
       "                (&#x27;regressor&#x27;, RandomForestRegressor(random_state=42))])</pre></div></div></div><div class=\"sk-serial\"><div class=\"sk-item sk-dashed-wrapped\"><div class=\"sk-label-container\"><div class=\"sk-label sk-toggleable\"><input class=\"sk-toggleable__control sk-hidden--visually\" id=\"sk-estimator-id-2\" type=\"checkbox\" ><label for=\"sk-estimator-id-2\" class=\"sk-toggleable__label sk-toggleable__label-arrow\">preprocessor: ColumnTransformer</label><div class=\"sk-toggleable__content\"><pre>ColumnTransformer(transformers=[(&#x27;cat&#x27;, OneHotEncoder(handle_unknown=&#x27;ignore&#x27;),\n",
       "                                 [&#x27;Area&#x27;, &#x27;Item&#x27;]),\n",
       "                                (&#x27;num&#x27;, MinMaxScaler(),\n",
       "                                 [&#x27;Year&#x27;, &#x27;average_rain_fall_mm_per_year&#x27;,\n",
       "                                  &#x27;pesticides_tonnes&#x27;, &#x27;avg_temp&#x27;])])</pre></div></div></div><div class=\"sk-parallel\"><div class=\"sk-parallel-item\"><div class=\"sk-item\"><div class=\"sk-label-container\"><div class=\"sk-label sk-toggleable\"><input class=\"sk-toggleable__control sk-hidden--visually\" id=\"sk-estimator-id-3\" type=\"checkbox\" ><label for=\"sk-estimator-id-3\" class=\"sk-toggleable__label sk-toggleable__label-arrow\">cat</label><div class=\"sk-toggleable__content\"><pre>[&#x27;Area&#x27;, &#x27;Item&#x27;]</pre></div></div></div><div class=\"sk-serial\"><div class=\"sk-item\"><div class=\"sk-estimator sk-toggleable\"><input class=\"sk-toggleable__control sk-hidden--visually\" id=\"sk-estimator-id-4\" type=\"checkbox\" ><label for=\"sk-estimator-id-4\" class=\"sk-toggleable__label sk-toggleable__label-arrow\">OneHotEncoder</label><div class=\"sk-toggleable__content\"><pre>OneHotEncoder(handle_unknown=&#x27;ignore&#x27;)</pre></div></div></div></div></div></div><div class=\"sk-parallel-item\"><div class=\"sk-item\"><div class=\"sk-label-container\"><div class=\"sk-label sk-toggleable\"><input class=\"sk-toggleable__control sk-hidden--visually\" id=\"sk-estimator-id-5\" type=\"checkbox\" ><label for=\"sk-estimator-id-5\" class=\"sk-toggleable__label sk-toggleable__label-arrow\">num</label><div class=\"sk-toggleable__content\"><pre>[&#x27;Year&#x27;, &#x27;average_rain_fall_mm_per_year&#x27;, &#x27;pesticides_tonnes&#x27;, &#x27;avg_temp&#x27;]</pre></div></div></div><div class=\"sk-serial\"><div class=\"sk-item\"><div class=\"sk-estimator sk-toggleable\"><input class=\"sk-toggleable__control sk-hidden--visually\" id=\"sk-estimator-id-6\" type=\"checkbox\" ><label for=\"sk-estimator-id-6\" class=\"sk-toggleable__label sk-toggleable__label-arrow\">MinMaxScaler</label><div class=\"sk-toggleable__content\"><pre>MinMaxScaler()</pre></div></div></div></div></div></div></div></div><div class=\"sk-item\"><div class=\"sk-estimator sk-toggleable\"><input class=\"sk-toggleable__control sk-hidden--visually\" id=\"sk-estimator-id-7\" type=\"checkbox\" ><label for=\"sk-estimator-id-7\" class=\"sk-toggleable__label sk-toggleable__label-arrow\">RandomForestRegressor</label><div class=\"sk-toggleable__content\"><pre>RandomForestRegressor(random_state=42)</pre></div></div></div></div></div></div></div>"
      ],
      "text/plain": [
       "Pipeline(steps=[('preprocessor',\n",
       "                 ColumnTransformer(transformers=[('cat',\n",
       "                                                  OneHotEncoder(handle_unknown='ignore'),\n",
       "                                                  ['Area', 'Item']),\n",
       "                                                 ('num', MinMaxScaler(),\n",
       "                                                  ['Year',\n",
       "                                                   'average_rain_fall_mm_per_year',\n",
       "                                                   'pesticides_tonnes',\n",
       "                                                   'avg_temp'])])),\n",
       "                ('regressor', RandomForestRegressor(random_state=42))])"
      ]
     },
     "execution_count": 38,
     "metadata": {},
     "output_type": "execute_result"
    }
   ],
   "source": [
    "# Train the model\n",
    "pipeline.fit(X_train, y_train)"
   ]
  },
  {
   "cell_type": "code",
   "execution_count": 39,
   "id": "eb6055df",
   "metadata": {},
   "outputs": [
    {
     "name": "stdout",
     "output_type": "stream",
     "text": [
      "R-squared score on test data: 0.9878407065832409\n"
     ]
    }
   ],
   "source": [
    "# Test the pipeline with test data\n",
    "score = pipeline.score(X_test, y_test)\n",
    "print(f\"R-squared score on test data: {score}\")"
   ]
  },
  {
   "cell_type": "code",
   "execution_count": 40,
   "id": "f51d7ff4",
   "metadata": {},
   "outputs": [
    {
     "name": "stdout",
     "output_type": "stream",
     "text": [
      "Predicted yields for completely new data:\n",
      "[12746.36]\n"
     ]
    }
   ],
   "source": [
    "\n",
    "# Sample new data (completely new, not seen during training)\n",
    "new_data = {\n",
    "    'Area': ['E'],\n",
    "    'Item': ['K'],\n",
    "    'Year': [2015],\n",
    "    'average_rain_fall_mm_per_year': [800],\n",
    "    'pesticides_tonnes': [30.2],\n",
    "    'avg_temp': [29.5]\n",
    "}\n",
    "\n",
    "# Convert new data into DataFrame\n",
    "new_df = pd.DataFrame(new_data)\n",
    "\n",
    "# Predict using the trained pipeline\n",
    "predictions = pipeline.predict(new_df)\n",
    "\n",
    "print(\"Predicted yields for completely new data:\")\n",
    "print(predictions)\n"
   ]
  },
  {
   "cell_type": "code",
   "execution_count": 41,
   "id": "f613dac6",
   "metadata": {},
   "outputs": [
    {
     "data": {
      "text/plain": [
       "['yield_prediction_pipeline.joblib']"
      ]
     },
     "execution_count": 41,
     "metadata": {},
     "output_type": "execute_result"
    }
   ],
   "source": [
    "from joblib import dump\n",
    "\n",
    "# Assuming 'pipeline' is your trained pipeline\n",
    "pipeline_filename = 'yield_prediction_pipeline.joblib'\n",
    "dump(pipeline, pipeline_filename)\n"
   ]
  },
  {
   "cell_type": "code",
   "execution_count": 58,
   "id": "8fe6774f",
   "metadata": {
    "execution": {
     "iopub.execute_input": "2023-05-22T16:29:29.891007Z",
     "iopub.status.busy": "2023-05-22T16:29:29.890558Z",
     "iopub.status.idle": "2023-05-22T16:29:29.898434Z",
     "shell.execute_reply": "2023-05-22T16:29:29.897284Z"
    },
    "papermill": {
     "duration": 0.055741,
     "end_time": "2023-05-22T16:29:29.900664",
     "exception": false,
     "start_time": "2023-05-22T16:29:29.844923",
     "status": "completed"
    },
    "tags": []
   },
   "outputs": [
    {
     "data": {
      "text/plain": [
       "array([[ 66790],\n",
       "       [231111],\n",
       "       [ 16667],\n",
       "       ...,\n",
       "       [ 13142],\n",
       "       [ 22222],\n",
       "       [ 22888]], dtype=int64)"
      ]
     },
     "execution_count": 58,
     "metadata": {},
     "output_type": "execute_result"
    }
   ],
   "source": [
    "y_train.values.reshape(-1,1)\n",
    "y_test.values.reshape(-1,1)"
   ]
  },
  {
   "cell_type": "markdown",
   "id": "5ddbb48a",
   "metadata": {
    "papermill": {
     "duration": 0.043105,
     "end_time": "2023-05-22T16:29:29.987241",
     "exception": false,
     "start_time": "2023-05-22T16:29:29.944136",
     "status": "completed"
    },
    "tags": []
   },
   "source": [
    "# Scaling and Model training"
   ]
  },
  {
   "cell_type": "code",
   "execution_count": 59,
   "id": "1fa055a4",
   "metadata": {
    "execution": {
     "iopub.execute_input": "2023-05-22T16:29:30.078346Z",
     "iopub.status.busy": "2023-05-22T16:29:30.077729Z",
     "iopub.status.idle": "2023-05-22T16:29:30.133367Z",
     "shell.execute_reply": "2023-05-22T16:29:30.132013Z"
    },
    "papermill": {
     "duration": 0.10564,
     "end_time": "2023-05-22T16:29:30.136749",
     "exception": false,
     "start_time": "2023-05-22T16:29:30.031109",
     "status": "completed"
    },
    "tags": []
   },
   "outputs": [],
   "source": [
    "\n",
    "\n",
    "mmc = MinMaxScaler()\n",
    "X_train = mmc.fit_transform(X_train)\n",
    "X_test = mmc.transform(X_test)"
   ]
  },
  {
   "cell_type": "code",
   "execution_count": 60,
   "id": "4c2325c4",
   "metadata": {
    "execution": {
     "iopub.execute_input": "2023-05-22T16:29:30.227187Z",
     "iopub.status.busy": "2023-05-22T16:29:30.226745Z",
     "iopub.status.idle": "2023-05-22T16:29:30.559667Z",
     "shell.execute_reply": "2023-05-22T16:29:30.557589Z"
    },
    "papermill": {
     "duration": 0.382875,
     "end_time": "2023-05-22T16:29:30.563803",
     "exception": false,
     "start_time": "2023-05-22T16:29:30.180928",
     "status": "completed"
    },
    "tags": []
   },
   "outputs": [
    {
     "name": "stderr",
     "output_type": "stream",
     "text": [
      "C:\\Windows\\Temp\\ipykernel_972\\3736926794.py:16: FutureWarning: The frame.append method is deprecated and will be removed from pandas in a future version. Use pandas.concat instead.\n",
      "  Model_perf = Model_perf.append(new_row,ignore_index = True)\n"
     ]
    }
   ],
   "source": [
    "### training the model with LR\n",
    "\n",
    "\n",
    "\n",
    "from sklearn.linear_model import LinearRegression\n",
    "LR = LinearRegression()\n",
    "LR.fit(X_train,y_train)\n",
    "y_pred = LR.predict(X_test)\n",
    "\n",
    "Model_perf = pd.DataFrame(columns=['Model_Name','MSE','R2_Score'])\n",
    "\n",
    "LR_mse = mean_squared_error(y_test,y_pred) \n",
    "LR_R2 = r2_score(y_test,y_pred)\n",
    "\n",
    "new_row = {'Model_Name':'Linear Regression','MSE':LR_mse , 'R2_Score': LR_R2}\n",
    "Model_perf = Model_perf.append(new_row,ignore_index = True)"
   ]
  },
  {
   "cell_type": "code",
   "execution_count": 61,
   "id": "e37e761d",
   "metadata": {
    "execution": {
     "iopub.execute_input": "2023-05-22T16:29:30.730589Z",
     "iopub.status.busy": "2023-05-22T16:29:30.730025Z",
     "iopub.status.idle": "2023-05-22T16:31:50.160233Z",
     "shell.execute_reply": "2023-05-22T16:31:50.148571Z"
    },
    "papermill": {
     "duration": 139.574683,
     "end_time": "2023-05-22T16:31:50.257609",
     "exception": false,
     "start_time": "2023-05-22T16:29:30.682926",
     "status": "completed"
    },
    "tags": []
   },
   "outputs": [
    {
     "name": "stdout",
     "output_type": "stream",
     "text": [
      "Predicted values: [ 68251. 167115.  45175. ...  19015.  21362.  48361.]\n"
     ]
    }
   ],
   "source": [
    "import numpy as np\n",
    "from sklearn.preprocessing import PolynomialFeatures\n",
    "\n",
    "\n",
    "# Create polynomial features\n",
    "poly_features = PolynomialFeatures(degree=2)  \n",
    "X_poly = poly_features.fit_transform(X_train)\n",
    "\n",
    "# Train the polynomial regression model\n",
    "poly_regression = LinearRegression()\n",
    "poly_regression.fit(X_poly, y_train)\n",
    "\n",
    "# Predict using the trained model\n",
    "\n",
    "X_test_poly = poly_features.transform(X_test)\n",
    "y_pred = poly_regression.predict(X_test_poly)\n",
    "print(\"Predicted values:\", y_pred)\n",
    "\n",
    "\n"
   ]
  },
  {
   "cell_type": "code",
   "execution_count": 62,
   "id": "2cca3229",
   "metadata": {
    "execution": {
     "iopub.execute_input": "2023-05-22T16:31:50.356880Z",
     "iopub.status.busy": "2023-05-22T16:31:50.356410Z",
     "iopub.status.idle": "2023-05-22T16:31:50.369272Z",
     "shell.execute_reply": "2023-05-22T16:31:50.367897Z"
    },
    "papermill": {
     "duration": 0.064257,
     "end_time": "2023-05-22T16:31:50.372040",
     "exception": false,
     "start_time": "2023-05-22T16:31:50.307783",
     "status": "completed"
    },
    "tags": []
   },
   "outputs": [
    {
     "name": "stderr",
     "output_type": "stream",
     "text": [
      "C:\\Windows\\Temp\\ipykernel_972\\714752342.py:5: FutureWarning: The frame.append method is deprecated and will be removed from pandas in a future version. Use pandas.concat instead.\n",
      "  Model_perf = Model_perf.append(new_row,ignore_index = True)\n"
     ]
    }
   ],
   "source": [
    "PR_mse = mean_squared_error(y_test,y_pred) \n",
    "PR_R2 = r2_score(y_test,y_pred)\n",
    "\n",
    "new_row = {'Model_Name':'Polynomial Regression(degree 2)','MSE':PR_mse , 'R2_Score': PR_R2}\n",
    "Model_perf = Model_perf.append(new_row,ignore_index = True)"
   ]
  },
  {
   "cell_type": "code",
   "execution_count": 63,
   "id": "1baddce0",
   "metadata": {
    "execution": {
     "iopub.execute_input": "2023-05-22T16:31:50.465657Z",
     "iopub.status.busy": "2023-05-22T16:31:50.464272Z",
     "iopub.status.idle": "2023-05-22T16:31:50.470144Z",
     "shell.execute_reply": "2023-05-22T16:31:50.468742Z"
    },
    "papermill": {
     "duration": 0.056669,
     "end_time": "2023-05-22T16:31:50.473004",
     "exception": false,
     "start_time": "2023-05-22T16:31:50.416335",
     "status": "completed"
    },
    "tags": []
   },
   "outputs": [],
   "source": [
    "### The polynomial regression does not perform that well"
   ]
  },
  {
   "cell_type": "code",
   "execution_count": 64,
   "id": "c0139395",
   "metadata": {
    "execution": {
     "iopub.execute_input": "2023-05-22T16:31:50.563919Z",
     "iopub.status.busy": "2023-05-22T16:31:50.563010Z",
     "iopub.status.idle": "2023-05-22T16:32:00.998047Z",
     "shell.execute_reply": "2023-05-22T16:32:00.996413Z"
    },
    "papermill": {
     "duration": 10.484163,
     "end_time": "2023-05-22T16:32:01.001384",
     "exception": false,
     "start_time": "2023-05-22T16:31:50.517221",
     "status": "completed"
    },
    "tags": []
   },
   "outputs": [
    {
     "name": "stderr",
     "output_type": "stream",
     "text": [
      "C:\\Windows\\Temp\\ipykernel_972\\1471169558.py:12: FutureWarning: The frame.append method is deprecated and will be removed from pandas in a future version. Use pandas.concat instead.\n",
      "  Model_perf = Model_perf.append(new_row,ignore_index = True)\n"
     ]
    }
   ],
   "source": [
    "### Trying the XGB regressor now\n",
    "\n",
    "from xgboost import XGBRegressor\n",
    "XG_boost = XGBRegressor(max_depth = 3,n_estimators = 300 )\n",
    "\n",
    "XG_boost.fit(X_train , y_train)\n",
    "y_pred = XG_boost.predict(X_test)\n",
    "XG_rmse = mean_squared_error(y_test,y_pred)\n",
    "XG_R2 = r2_score(y_test,y_pred)\n",
    "\n",
    "new_row = {'Model_Name':'XGB','MSE':XG_rmse ,'R2_Score': XG_R2}\n",
    "Model_perf = Model_perf.append(new_row,ignore_index = True)"
   ]
  },
  {
   "cell_type": "markdown",
   "id": "eaff9ca0",
   "metadata": {
    "execution": {
     "iopub.execute_input": "2023-05-22T16:13:12.352410Z",
     "iopub.status.busy": "2023-05-22T16:13:12.351996Z",
     "iopub.status.idle": "2023-05-22T16:13:12.361967Z",
     "shell.execute_reply": "2023-05-22T16:13:12.360678Z",
     "shell.execute_reply.started": "2023-05-22T16:13:12.352378Z"
    },
    "papermill": {
     "duration": 0.043939,
     "end_time": "2023-05-22T16:32:01.098832",
     "exception": false,
     "start_time": "2023-05-22T16:32:01.054893",
     "status": "completed"
    },
    "tags": []
   },
   "source": [
    "# Model_Performance"
   ]
  },
  {
   "cell_type": "code",
   "execution_count": 63,
   "id": "226fd6b9",
   "metadata": {
    "execution": {
     "iopub.execute_input": "2023-05-22T16:32:01.196100Z",
     "iopub.status.busy": "2023-05-22T16:32:01.194627Z",
     "iopub.status.idle": "2023-05-22T16:32:01.208832Z",
     "shell.execute_reply": "2023-05-22T16:32:01.207559Z"
    },
    "papermill": {
     "duration": 0.066124,
     "end_time": "2023-05-22T16:32:01.211665",
     "exception": false,
     "start_time": "2023-05-22T16:32:01.145541",
     "status": "completed"
    },
    "tags": []
   },
   "outputs": [
    {
     "data": {
      "text/html": [
       "<div>\n",
       "<style scoped>\n",
       "    .dataframe tbody tr th:only-of-type {\n",
       "        vertical-align: middle;\n",
       "    }\n",
       "\n",
       "    .dataframe tbody tr th {\n",
       "        vertical-align: top;\n",
       "    }\n",
       "\n",
       "    .dataframe thead th {\n",
       "        text-align: right;\n",
       "    }\n",
       "</style>\n",
       "<table border=\"1\" class=\"dataframe\">\n",
       "  <thead>\n",
       "    <tr style=\"text-align: right;\">\n",
       "      <th></th>\n",
       "      <th>Model_Name</th>\n",
       "      <th>MSE</th>\n",
       "      <th>R2_Score</th>\n",
       "    </tr>\n",
       "  </thead>\n",
       "  <tbody>\n",
       "    <tr>\n",
       "      <th>0</th>\n",
       "      <td>Linear Regression</td>\n",
       "      <td>9.699018e+08</td>\n",
       "      <td>7.327007e-01</td>\n",
       "    </tr>\n",
       "    <tr>\n",
       "      <th>1</th>\n",
       "      <td>Polynomial Regression(degree 2)</td>\n",
       "      <td>1.825377e+31</td>\n",
       "      <td>-5.030634e+21</td>\n",
       "    </tr>\n",
       "    <tr>\n",
       "      <th>2</th>\n",
       "      <td>XGB</td>\n",
       "      <td>5.192567e+08</td>\n",
       "      <td>8.568959e-01</td>\n",
       "    </tr>\n",
       "  </tbody>\n",
       "</table>\n",
       "</div>"
      ],
      "text/plain": [
       "                        Model_Name           MSE      R2_Score\n",
       "0                Linear Regression  9.699018e+08  7.327007e-01\n",
       "1  Polynomial Regression(degree 2)  1.825377e+31 -5.030634e+21\n",
       "2                              XGB  5.192567e+08  8.568959e-01"
      ]
     },
     "execution_count": 63,
     "metadata": {},
     "output_type": "execute_result"
    }
   ],
   "source": [
    "Model_perf"
   ]
  },
  {
   "cell_type": "code",
   "execution_count": 65,
   "id": "c1f5ab42",
   "metadata": {
    "papermill": {
     "duration": 0.043897,
     "end_time": "2023-05-22T16:32:01.302487",
     "exception": false,
     "start_time": "2023-05-22T16:32:01.258590",
     "status": "completed"
    },
    "tags": []
   },
   "outputs": [
    {
     "data": {
      "text/plain": [
       "['yield_predictor.pkl']"
      ]
     },
     "execution_count": 65,
     "metadata": {},
     "output_type": "execute_result"
    }
   ],
   "source": [
    "import joblib\n",
    "\n",
    "# Assuming XG_boost is your trained XGBRegressor model\n",
    "# Save the model to a file\n",
    "joblib.dump(XG_boost, 'yield_predictor.pkl')\n"
   ]
  },
  {
   "cell_type": "code",
   "execution_count": 66,
   "id": "4cbbf2ae",
   "metadata": {},
   "outputs": [
    {
     "data": {
      "text/html": [
       "<div>\n",
       "<style scoped>\n",
       "    .dataframe tbody tr th:only-of-type {\n",
       "        vertical-align: middle;\n",
       "    }\n",
       "\n",
       "    .dataframe tbody tr th {\n",
       "        vertical-align: top;\n",
       "    }\n",
       "\n",
       "    .dataframe thead th {\n",
       "        text-align: right;\n",
       "    }\n",
       "</style>\n",
       "<table border=\"1\" class=\"dataframe\">\n",
       "  <thead>\n",
       "    <tr style=\"text-align: right;\">\n",
       "      <th></th>\n",
       "      <th>Year</th>\n",
       "      <th>hg/ha_yield</th>\n",
       "      <th>average_rain_fall_mm_per_year</th>\n",
       "      <th>pesticides_tonnes</th>\n",
       "      <th>avg_temp</th>\n",
       "      <th>Item_Maize</th>\n",
       "      <th>Item_Potatoes</th>\n",
       "      <th>Item_Rice</th>\n",
       "      <th>Item_Sorghum</th>\n",
       "      <th>Item_Soybeans</th>\n",
       "      <th>...</th>\n",
       "      <th>Area_Tajikistan</th>\n",
       "      <th>Area_Thailand</th>\n",
       "      <th>Area_Tunisia</th>\n",
       "      <th>Area_Turkey</th>\n",
       "      <th>Area_Uganda</th>\n",
       "      <th>Area_Ukraine</th>\n",
       "      <th>Area_United Kingdom</th>\n",
       "      <th>Area_Uruguay</th>\n",
       "      <th>Area_Zambia</th>\n",
       "      <th>Area_Zimbabwe</th>\n",
       "    </tr>\n",
       "  </thead>\n",
       "  <tbody>\n",
       "    <tr>\n",
       "      <th>0</th>\n",
       "      <td>1990</td>\n",
       "      <td>36613</td>\n",
       "      <td>1485.0</td>\n",
       "      <td>121.00</td>\n",
       "      <td>16.37</td>\n",
       "      <td>1</td>\n",
       "      <td>0</td>\n",
       "      <td>0</td>\n",
       "      <td>0</td>\n",
       "      <td>0</td>\n",
       "      <td>...</td>\n",
       "      <td>0</td>\n",
       "      <td>0</td>\n",
       "      <td>0</td>\n",
       "      <td>0</td>\n",
       "      <td>0</td>\n",
       "      <td>0</td>\n",
       "      <td>0</td>\n",
       "      <td>0</td>\n",
       "      <td>0</td>\n",
       "      <td>0</td>\n",
       "    </tr>\n",
       "    <tr>\n",
       "      <th>1</th>\n",
       "      <td>1990</td>\n",
       "      <td>66667</td>\n",
       "      <td>1485.0</td>\n",
       "      <td>121.00</td>\n",
       "      <td>16.37</td>\n",
       "      <td>0</td>\n",
       "      <td>1</td>\n",
       "      <td>0</td>\n",
       "      <td>0</td>\n",
       "      <td>0</td>\n",
       "      <td>...</td>\n",
       "      <td>0</td>\n",
       "      <td>0</td>\n",
       "      <td>0</td>\n",
       "      <td>0</td>\n",
       "      <td>0</td>\n",
       "      <td>0</td>\n",
       "      <td>0</td>\n",
       "      <td>0</td>\n",
       "      <td>0</td>\n",
       "      <td>0</td>\n",
       "    </tr>\n",
       "    <tr>\n",
       "      <th>2</th>\n",
       "      <td>1990</td>\n",
       "      <td>23333</td>\n",
       "      <td>1485.0</td>\n",
       "      <td>121.00</td>\n",
       "      <td>16.37</td>\n",
       "      <td>0</td>\n",
       "      <td>0</td>\n",
       "      <td>1</td>\n",
       "      <td>0</td>\n",
       "      <td>0</td>\n",
       "      <td>...</td>\n",
       "      <td>0</td>\n",
       "      <td>0</td>\n",
       "      <td>0</td>\n",
       "      <td>0</td>\n",
       "      <td>0</td>\n",
       "      <td>0</td>\n",
       "      <td>0</td>\n",
       "      <td>0</td>\n",
       "      <td>0</td>\n",
       "      <td>0</td>\n",
       "    </tr>\n",
       "    <tr>\n",
       "      <th>3</th>\n",
       "      <td>1990</td>\n",
       "      <td>23333</td>\n",
       "      <td>1485.0</td>\n",
       "      <td>121.00</td>\n",
       "      <td>16.37</td>\n",
       "      <td>0</td>\n",
       "      <td>0</td>\n",
       "      <td>1</td>\n",
       "      <td>0</td>\n",
       "      <td>0</td>\n",
       "      <td>...</td>\n",
       "      <td>0</td>\n",
       "      <td>0</td>\n",
       "      <td>0</td>\n",
       "      <td>0</td>\n",
       "      <td>0</td>\n",
       "      <td>0</td>\n",
       "      <td>0</td>\n",
       "      <td>0</td>\n",
       "      <td>0</td>\n",
       "      <td>0</td>\n",
       "    </tr>\n",
       "    <tr>\n",
       "      <th>4</th>\n",
       "      <td>1990</td>\n",
       "      <td>12500</td>\n",
       "      <td>1485.0</td>\n",
       "      <td>121.00</td>\n",
       "      <td>16.37</td>\n",
       "      <td>0</td>\n",
       "      <td>0</td>\n",
       "      <td>0</td>\n",
       "      <td>1</td>\n",
       "      <td>0</td>\n",
       "      <td>...</td>\n",
       "      <td>0</td>\n",
       "      <td>0</td>\n",
       "      <td>0</td>\n",
       "      <td>0</td>\n",
       "      <td>0</td>\n",
       "      <td>0</td>\n",
       "      <td>0</td>\n",
       "      <td>0</td>\n",
       "      <td>0</td>\n",
       "      <td>0</td>\n",
       "    </tr>\n",
       "    <tr>\n",
       "      <th>...</th>\n",
       "      <td>...</td>\n",
       "      <td>...</td>\n",
       "      <td>...</td>\n",
       "      <td>...</td>\n",
       "      <td>...</td>\n",
       "      <td>...</td>\n",
       "      <td>...</td>\n",
       "      <td>...</td>\n",
       "      <td>...</td>\n",
       "      <td>...</td>\n",
       "      <td>...</td>\n",
       "      <td>...</td>\n",
       "      <td>...</td>\n",
       "      <td>...</td>\n",
       "      <td>...</td>\n",
       "      <td>...</td>\n",
       "      <td>...</td>\n",
       "      <td>...</td>\n",
       "      <td>...</td>\n",
       "      <td>...</td>\n",
       "      <td>...</td>\n",
       "    </tr>\n",
       "    <tr>\n",
       "      <th>31625</th>\n",
       "      <td>2013</td>\n",
       "      <td>22581</td>\n",
       "      <td>657.0</td>\n",
       "      <td>2550.07</td>\n",
       "      <td>19.76</td>\n",
       "      <td>0</td>\n",
       "      <td>0</td>\n",
       "      <td>1</td>\n",
       "      <td>0</td>\n",
       "      <td>0</td>\n",
       "      <td>...</td>\n",
       "      <td>0</td>\n",
       "      <td>0</td>\n",
       "      <td>0</td>\n",
       "      <td>0</td>\n",
       "      <td>0</td>\n",
       "      <td>0</td>\n",
       "      <td>0</td>\n",
       "      <td>0</td>\n",
       "      <td>0</td>\n",
       "      <td>1</td>\n",
       "    </tr>\n",
       "    <tr>\n",
       "      <th>31626</th>\n",
       "      <td>2013</td>\n",
       "      <td>3066</td>\n",
       "      <td>657.0</td>\n",
       "      <td>2550.07</td>\n",
       "      <td>19.76</td>\n",
       "      <td>0</td>\n",
       "      <td>0</td>\n",
       "      <td>0</td>\n",
       "      <td>1</td>\n",
       "      <td>0</td>\n",
       "      <td>...</td>\n",
       "      <td>0</td>\n",
       "      <td>0</td>\n",
       "      <td>0</td>\n",
       "      <td>0</td>\n",
       "      <td>0</td>\n",
       "      <td>0</td>\n",
       "      <td>0</td>\n",
       "      <td>0</td>\n",
       "      <td>0</td>\n",
       "      <td>1</td>\n",
       "    </tr>\n",
       "    <tr>\n",
       "      <th>31627</th>\n",
       "      <td>2013</td>\n",
       "      <td>13142</td>\n",
       "      <td>657.0</td>\n",
       "      <td>2550.07</td>\n",
       "      <td>19.76</td>\n",
       "      <td>0</td>\n",
       "      <td>0</td>\n",
       "      <td>0</td>\n",
       "      <td>0</td>\n",
       "      <td>1</td>\n",
       "      <td>...</td>\n",
       "      <td>0</td>\n",
       "      <td>0</td>\n",
       "      <td>0</td>\n",
       "      <td>0</td>\n",
       "      <td>0</td>\n",
       "      <td>0</td>\n",
       "      <td>0</td>\n",
       "      <td>0</td>\n",
       "      <td>0</td>\n",
       "      <td>1</td>\n",
       "    </tr>\n",
       "    <tr>\n",
       "      <th>31628</th>\n",
       "      <td>2013</td>\n",
       "      <td>22222</td>\n",
       "      <td>657.0</td>\n",
       "      <td>2550.07</td>\n",
       "      <td>19.76</td>\n",
       "      <td>0</td>\n",
       "      <td>0</td>\n",
       "      <td>0</td>\n",
       "      <td>0</td>\n",
       "      <td>0</td>\n",
       "      <td>...</td>\n",
       "      <td>0</td>\n",
       "      <td>0</td>\n",
       "      <td>0</td>\n",
       "      <td>0</td>\n",
       "      <td>0</td>\n",
       "      <td>0</td>\n",
       "      <td>0</td>\n",
       "      <td>0</td>\n",
       "      <td>0</td>\n",
       "      <td>1</td>\n",
       "    </tr>\n",
       "    <tr>\n",
       "      <th>31629</th>\n",
       "      <td>2013</td>\n",
       "      <td>22888</td>\n",
       "      <td>657.0</td>\n",
       "      <td>2550.07</td>\n",
       "      <td>19.76</td>\n",
       "      <td>0</td>\n",
       "      <td>0</td>\n",
       "      <td>0</td>\n",
       "      <td>0</td>\n",
       "      <td>0</td>\n",
       "      <td>...</td>\n",
       "      <td>0</td>\n",
       "      <td>0</td>\n",
       "      <td>0</td>\n",
       "      <td>0</td>\n",
       "      <td>0</td>\n",
       "      <td>0</td>\n",
       "      <td>0</td>\n",
       "      <td>0</td>\n",
       "      <td>0</td>\n",
       "      <td>1</td>\n",
       "    </tr>\n",
       "  </tbody>\n",
       "</table>\n",
       "<p>26999 rows × 113 columns</p>\n",
       "</div>"
      ],
      "text/plain": [
       "       Year  hg/ha_yield  average_rain_fall_mm_per_year  pesticides_tonnes  \\\n",
       "0      1990        36613                         1485.0             121.00   \n",
       "1      1990        66667                         1485.0             121.00   \n",
       "2      1990        23333                         1485.0             121.00   \n",
       "3      1990        23333                         1485.0             121.00   \n",
       "4      1990        12500                         1485.0             121.00   \n",
       "...     ...          ...                            ...                ...   \n",
       "31625  2013        22581                          657.0            2550.07   \n",
       "31626  2013         3066                          657.0            2550.07   \n",
       "31627  2013        13142                          657.0            2550.07   \n",
       "31628  2013        22222                          657.0            2550.07   \n",
       "31629  2013        22888                          657.0            2550.07   \n",
       "\n",
       "       avg_temp  Item_Maize  Item_Potatoes  Item_Rice  Item_Sorghum  \\\n",
       "0         16.37           1              0          0             0   \n",
       "1         16.37           0              1          0             0   \n",
       "2         16.37           0              0          1             0   \n",
       "3         16.37           0              0          1             0   \n",
       "4         16.37           0              0          0             1   \n",
       "...         ...         ...            ...        ...           ...   \n",
       "31625     19.76           0              0          1             0   \n",
       "31626     19.76           0              0          0             1   \n",
       "31627     19.76           0              0          0             0   \n",
       "31628     19.76           0              0          0             0   \n",
       "31629     19.76           0              0          0             0   \n",
       "\n",
       "       Item_Soybeans  ...  Area_Tajikistan  Area_Thailand  Area_Tunisia  \\\n",
       "0                  0  ...                0              0             0   \n",
       "1                  0  ...                0              0             0   \n",
       "2                  0  ...                0              0             0   \n",
       "3                  0  ...                0              0             0   \n",
       "4                  0  ...                0              0             0   \n",
       "...              ...  ...              ...            ...           ...   \n",
       "31625              0  ...                0              0             0   \n",
       "31626              0  ...                0              0             0   \n",
       "31627              1  ...                0              0             0   \n",
       "31628              0  ...                0              0             0   \n",
       "31629              0  ...                0              0             0   \n",
       "\n",
       "       Area_Turkey  Area_Uganda  Area_Ukraine  Area_United Kingdom  \\\n",
       "0                0            0             0                    0   \n",
       "1                0            0             0                    0   \n",
       "2                0            0             0                    0   \n",
       "3                0            0             0                    0   \n",
       "4                0            0             0                    0   \n",
       "...            ...          ...           ...                  ...   \n",
       "31625            0            0             0                    0   \n",
       "31626            0            0             0                    0   \n",
       "31627            0            0             0                    0   \n",
       "31628            0            0             0                    0   \n",
       "31629            0            0             0                    0   \n",
       "\n",
       "       Area_Uruguay  Area_Zambia  Area_Zimbabwe  \n",
       "0                 0            0              0  \n",
       "1                 0            0              0  \n",
       "2                 0            0              0  \n",
       "3                 0            0              0  \n",
       "4                 0            0              0  \n",
       "...             ...          ...            ...  \n",
       "31625             0            0              1  \n",
       "31626             0            0              1  \n",
       "31627             0            0              1  \n",
       "31628             0            0              1  \n",
       "31629             0            0              1  \n",
       "\n",
       "[26999 rows x 113 columns]"
      ]
     },
     "execution_count": 66,
     "metadata": {},
     "output_type": "execute_result"
    }
   ],
   "source": [
    "Yield_final_data"
   ]
  },
  {
   "cell_type": "code",
   "execution_count": null,
   "id": "36978d0d",
   "metadata": {},
   "outputs": [],
   "source": []
  }
 ],
 "metadata": {
  "kernelspec": {
   "display_name": "Python 3 (ipykernel)",
   "language": "python",
   "name": "python3"
  },
  "language_info": {
   "codemirror_mode": {
    "name": "ipython",
    "version": 3
   },
   "file_extension": ".py",
   "mimetype": "text/x-python",
   "name": "python",
   "nbconvert_exporter": "python",
   "pygments_lexer": "ipython3",
   "version": "3.9.16"
  },
  "papermill": {
   "default_parameters": {},
   "duration": 190.221698,
   "end_time": "2023-05-22T16:32:03.706074",
   "environment_variables": {},
   "exception": null,
   "input_path": "__notebook__.ipynb",
   "output_path": "__notebook__.ipynb",
   "parameters": {},
   "start_time": "2023-05-22T16:28:53.484376",
   "version": "2.4.0"
  }
 },
 "nbformat": 4,
 "nbformat_minor": 5
}
